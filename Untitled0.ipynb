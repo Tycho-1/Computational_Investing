{
 "metadata": {
  "name": "Untitled0"
 }, 
 "nbformat": 2, 
 "worksheets": [
  {
   "cells": [
    {
     "cell_type": "code", 
     "collapsed": true, 
     "input": [
      "fvfg"
     ], 
     "language": "python", 
     "outputs": []
    }
   ]
  }
 ]
}